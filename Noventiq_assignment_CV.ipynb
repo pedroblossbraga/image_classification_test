{
  "nbformat": 4,
  "nbformat_minor": 0,
  "metadata": {
    "colab": {
      "provenance": [],
      "authorship_tag": "ABX9TyOxUSfZZIhOgUyo+3Rts+Lz",
      "include_colab_link": true
    },
    "kernelspec": {
      "name": "python3",
      "display_name": "Python 3"
    },
    "language_info": {
      "name": "python"
    }
  },
  "cells": [
    {
      "cell_type": "markdown",
      "metadata": {
        "id": "view-in-github",
        "colab_type": "text"
      },
      "source": [
        "<a href=\"https://colab.research.google.com/github/pedroblossbraga/image_classification_test/blob/main/Noventiq_assignment_CV.ipynb\" target=\"_parent\"><img src=\"https://colab.research.google.com/assets/colab-badge.svg\" alt=\"Open In Colab\"/></a>"
      ]
    },
    {
      "cell_type": "code",
      "execution_count": null,
      "metadata": {
        "colab": {
          "base_uri": "https://localhost:8080/"
        },
        "id": "Fg7OzbIvf8os",
        "outputId": "606d1ae7-f463-4e3f-b54b-a8d8929b41db"
      },
      "outputs": [
        {
          "output_type": "stream",
          "name": "stdout",
          "text": [
            "Drive already mounted at /content/drive; to attempt to forcibly remount, call drive.mount(\"/content/drive\", force_remount=True).\n"
          ]
        }
      ],
      "source": [
        "from google.colab import drive\n",
        "import os\n",
        "\n",
        "drive.mount('/content/drive') #, force_remount=True)\n",
        "\n",
        "# path = 'drive/MyDrive'\n",
        "# os.listdir(path)"
      ]
    },
    {
      "cell_type": "code",
      "source": [
        "root_path = 'drive/MyDrive/noventiq test CV'\n",
        "os.listdir(root_path)"
      ],
      "metadata": {
        "colab": {
          "base_uri": "https://localhost:8080/"
        },
        "id": "TauHTCvcgCUX",
        "outputId": "d9272012-8630-4553-e1c4-d1b670c2649a"
      },
      "execution_count": null,
      "outputs": [
        {
          "output_type": "execute_result",
          "data": {
            "text/plain": [
              "['test_assignment_cv']"
            ]
          },
          "metadata": {},
          "execution_count": 46
        }
      ]
    },
    {
      "cell_type": "code",
      "source": [
        "path = os.path.join(root_path, 'test_assignment_cv')\n",
        "os.listdir(path)"
      ],
      "metadata": {
        "colab": {
          "base_uri": "https://localhost:8080/"
        },
        "id": "9zQrZcbXnU1t",
        "outputId": "816a464b-4ca6-4b5b-b1a0-c73c25824008"
      },
      "execution_count": null,
      "outputs": [
        {
          "output_type": "execute_result",
          "data": {
            "text/plain": [
              "['non_georges.csv', 'georges.csv', 'george_test_task.zip']"
            ]
          },
          "metadata": {},
          "execution_count": 47
        }
      ]
    },
    {
      "cell_type": "code",
      "source": [
        "import pandas as pd\n",
        "import numpy as np\n",
        "\n",
        "import matplotlib.pyplot as plt\n",
        "# import seaborn as sns\n",
        "# import plotly.express as px\n",
        "\n",
        "from PIL import Image\n",
        "import requests"
      ],
      "metadata": {
        "id": "EstqWA9Whfrp"
      },
      "execution_count": null,
      "outputs": []
    },
    {
      "cell_type": "markdown",
      "source": [
        "# Dataset"
      ],
      "metadata": {
        "id": "d3v2BdxwjH6w"
      }
    },
    {
      "cell_type": "code",
      "source": [
        "df_nongeorges = pd.read_csv(os.path.join(path, 'non_georges.csv'),\n",
        "                            header=None)\n",
        "df_nongeorges"
      ],
      "metadata": {
        "colab": {
          "base_uri": "https://localhost:8080/",
          "height": 424
        },
        "id": "BRqactqGgMEB",
        "outputId": "c494bd49-ce7e-408e-b591-4dc2c6581ec5"
      },
      "execution_count": null,
      "outputs": [
        {
          "output_type": "execute_result",
          "data": {
            "text/plain": [
              "                                                      0\n",
              "0     https://i.pinimg.com/736x/fd/65/bb/fd65bb679b7...\n",
              "1     https://i.pinimg.com/736x/78/63/a2/7863a2404af...\n",
              "2     https://i.pinimg.com/736x/bc/3a/f4/bc3af41444c...\n",
              "3     https://i.pinimg.com/736x/46/a3/59/46a3595eec7...\n",
              "4     https://i.pinimg.com/736x/54/b2/ef/54b2ef7af71...\n",
              "...                                                 ...\n",
              "3361  https://i.pinimg.com/736x/77/67/53/776753c14ee...\n",
              "3362  https://i.pinimg.com/736x/e5/d0/f4/e5d0f428313...\n",
              "3363  https://i.pinimg.com/736x/ba/d6/2b/bad62bc6efa...\n",
              "3364  https://i.pinimg.com/736x/e6/74/ad/e674adb02ce...\n",
              "3365  https://i.pinimg.com/736x/9c/04/71/9c04717e71b...\n",
              "\n",
              "[3366 rows x 1 columns]"
            ],
            "text/html": [
              "\n",
              "  <div id=\"df-c10e5786-b7b4-4dc4-aa61-eeb777071952\">\n",
              "    <div class=\"colab-df-container\">\n",
              "      <div>\n",
              "<style scoped>\n",
              "    .dataframe tbody tr th:only-of-type {\n",
              "        vertical-align: middle;\n",
              "    }\n",
              "\n",
              "    .dataframe tbody tr th {\n",
              "        vertical-align: top;\n",
              "    }\n",
              "\n",
              "    .dataframe thead th {\n",
              "        text-align: right;\n",
              "    }\n",
              "</style>\n",
              "<table border=\"1\" class=\"dataframe\">\n",
              "  <thead>\n",
              "    <tr style=\"text-align: right;\">\n",
              "      <th></th>\n",
              "      <th>0</th>\n",
              "    </tr>\n",
              "  </thead>\n",
              "  <tbody>\n",
              "    <tr>\n",
              "      <th>0</th>\n",
              "      <td>https://i.pinimg.com/736x/fd/65/bb/fd65bb679b7...</td>\n",
              "    </tr>\n",
              "    <tr>\n",
              "      <th>1</th>\n",
              "      <td>https://i.pinimg.com/736x/78/63/a2/7863a2404af...</td>\n",
              "    </tr>\n",
              "    <tr>\n",
              "      <th>2</th>\n",
              "      <td>https://i.pinimg.com/736x/bc/3a/f4/bc3af41444c...</td>\n",
              "    </tr>\n",
              "    <tr>\n",
              "      <th>3</th>\n",
              "      <td>https://i.pinimg.com/736x/46/a3/59/46a3595eec7...</td>\n",
              "    </tr>\n",
              "    <tr>\n",
              "      <th>4</th>\n",
              "      <td>https://i.pinimg.com/736x/54/b2/ef/54b2ef7af71...</td>\n",
              "    </tr>\n",
              "    <tr>\n",
              "      <th>...</th>\n",
              "      <td>...</td>\n",
              "    </tr>\n",
              "    <tr>\n",
              "      <th>3361</th>\n",
              "      <td>https://i.pinimg.com/736x/77/67/53/776753c14ee...</td>\n",
              "    </tr>\n",
              "    <tr>\n",
              "      <th>3362</th>\n",
              "      <td>https://i.pinimg.com/736x/e5/d0/f4/e5d0f428313...</td>\n",
              "    </tr>\n",
              "    <tr>\n",
              "      <th>3363</th>\n",
              "      <td>https://i.pinimg.com/736x/ba/d6/2b/bad62bc6efa...</td>\n",
              "    </tr>\n",
              "    <tr>\n",
              "      <th>3364</th>\n",
              "      <td>https://i.pinimg.com/736x/e6/74/ad/e674adb02ce...</td>\n",
              "    </tr>\n",
              "    <tr>\n",
              "      <th>3365</th>\n",
              "      <td>https://i.pinimg.com/736x/9c/04/71/9c04717e71b...</td>\n",
              "    </tr>\n",
              "  </tbody>\n",
              "</table>\n",
              "<p>3366 rows × 1 columns</p>\n",
              "</div>\n",
              "      <button class=\"colab-df-convert\" onclick=\"convertToInteractive('df-c10e5786-b7b4-4dc4-aa61-eeb777071952')\"\n",
              "              title=\"Convert this dataframe to an interactive table.\"\n",
              "              style=\"display:none;\">\n",
              "        \n",
              "  <svg xmlns=\"http://www.w3.org/2000/svg\" height=\"24px\"viewBox=\"0 0 24 24\"\n",
              "       width=\"24px\">\n",
              "    <path d=\"M0 0h24v24H0V0z\" fill=\"none\"/>\n",
              "    <path d=\"M18.56 5.44l.94 2.06.94-2.06 2.06-.94-2.06-.94-.94-2.06-.94 2.06-2.06.94zm-11 1L8.5 8.5l.94-2.06 2.06-.94-2.06-.94L8.5 2.5l-.94 2.06-2.06.94zm10 10l.94 2.06.94-2.06 2.06-.94-2.06-.94-.94-2.06-.94 2.06-2.06.94z\"/><path d=\"M17.41 7.96l-1.37-1.37c-.4-.4-.92-.59-1.43-.59-.52 0-1.04.2-1.43.59L10.3 9.45l-7.72 7.72c-.78.78-.78 2.05 0 2.83L4 21.41c.39.39.9.59 1.41.59.51 0 1.02-.2 1.41-.59l7.78-7.78 2.81-2.81c.8-.78.8-2.07 0-2.86zM5.41 20L4 18.59l7.72-7.72 1.47 1.35L5.41 20z\"/>\n",
              "  </svg>\n",
              "      </button>\n",
              "      \n",
              "  <style>\n",
              "    .colab-df-container {\n",
              "      display:flex;\n",
              "      flex-wrap:wrap;\n",
              "      gap: 12px;\n",
              "    }\n",
              "\n",
              "    .colab-df-convert {\n",
              "      background-color: #E8F0FE;\n",
              "      border: none;\n",
              "      border-radius: 50%;\n",
              "      cursor: pointer;\n",
              "      display: none;\n",
              "      fill: #1967D2;\n",
              "      height: 32px;\n",
              "      padding: 0 0 0 0;\n",
              "      width: 32px;\n",
              "    }\n",
              "\n",
              "    .colab-df-convert:hover {\n",
              "      background-color: #E2EBFA;\n",
              "      box-shadow: 0px 1px 2px rgba(60, 64, 67, 0.3), 0px 1px 3px 1px rgba(60, 64, 67, 0.15);\n",
              "      fill: #174EA6;\n",
              "    }\n",
              "\n",
              "    [theme=dark] .colab-df-convert {\n",
              "      background-color: #3B4455;\n",
              "      fill: #D2E3FC;\n",
              "    }\n",
              "\n",
              "    [theme=dark] .colab-df-convert:hover {\n",
              "      background-color: #434B5C;\n",
              "      box-shadow: 0px 1px 3px 1px rgba(0, 0, 0, 0.15);\n",
              "      filter: drop-shadow(0px 1px 2px rgba(0, 0, 0, 0.3));\n",
              "      fill: #FFFFFF;\n",
              "    }\n",
              "  </style>\n",
              "\n",
              "      <script>\n",
              "        const buttonEl =\n",
              "          document.querySelector('#df-c10e5786-b7b4-4dc4-aa61-eeb777071952 button.colab-df-convert');\n",
              "        buttonEl.style.display =\n",
              "          google.colab.kernel.accessAllowed ? 'block' : 'none';\n",
              "\n",
              "        async function convertToInteractive(key) {\n",
              "          const element = document.querySelector('#df-c10e5786-b7b4-4dc4-aa61-eeb777071952');\n",
              "          const dataTable =\n",
              "            await google.colab.kernel.invokeFunction('convertToInteractive',\n",
              "                                                     [key], {});\n",
              "          if (!dataTable) return;\n",
              "\n",
              "          const docLinkHtml = 'Like what you see? Visit the ' +\n",
              "            '<a target=\"_blank\" href=https://colab.research.google.com/notebooks/data_table.ipynb>data table notebook</a>'\n",
              "            + ' to learn more about interactive tables.';\n",
              "          element.innerHTML = '';\n",
              "          dataTable['output_type'] = 'display_data';\n",
              "          await google.colab.output.renderOutput(dataTable, element);\n",
              "          const docLink = document.createElement('div');\n",
              "          docLink.innerHTML = docLinkHtml;\n",
              "          element.appendChild(docLink);\n",
              "        }\n",
              "      </script>\n",
              "    </div>\n",
              "  </div>\n",
              "  "
            ]
          },
          "metadata": {},
          "execution_count": 49
        }
      ]
    },
    {
      "cell_type": "code",
      "source": [
        "df_georges = pd.read_csv(os.path.join(path, 'georges.csv'),\n",
        "                            header=None)\n",
        "df_georges"
      ],
      "metadata": {
        "colab": {
          "base_uri": "https://localhost:8080/",
          "height": 424
        },
        "id": "fJ1p6yIjhcLk",
        "outputId": "0b7bd42b-ba87-4f25-a726-dce26858f17c"
      },
      "execution_count": null,
      "outputs": [
        {
          "output_type": "execute_result",
          "data": {
            "text/plain": [
              "                                                      0\n",
              "0     https://i.pinimg.com/736x/17/0d/5b/170d5b93d80...\n",
              "1     https://i.pinimg.com/736x/47/b9/9a/47b99a2ddcd...\n",
              "2     https://i.pinimg.com/736x/90/e8/90/90e890f054b...\n",
              "3     https://i.pinimg.com/736x/0a/71/6f/0a716f6f14e...\n",
              "4     https://i.pinimg.com/736x/f1/95/be/f195bea0b78...\n",
              "...                                                 ...\n",
              "2676  https://i.pinimg.com/736x/ec/55/2f/ec552fa0c0a...\n",
              "2677  https://i.pinimg.com/736x/a7/e2/e1/a7e2e10b8d6...\n",
              "2678  https://i.pinimg.com/736x/e0/d5/c5/e0d5c5eeac0...\n",
              "2679  https://i.pinimg.com/736x/77/4d/89/774d897ee7e...\n",
              "2680  https://i.pinimg.com/736x/95/5d/5e/955d5edfa0a...\n",
              "\n",
              "[2681 rows x 1 columns]"
            ],
            "text/html": [
              "\n",
              "  <div id=\"df-16aec816-c75e-4b67-883b-34b6b1ef03fd\">\n",
              "    <div class=\"colab-df-container\">\n",
              "      <div>\n",
              "<style scoped>\n",
              "    .dataframe tbody tr th:only-of-type {\n",
              "        vertical-align: middle;\n",
              "    }\n",
              "\n",
              "    .dataframe tbody tr th {\n",
              "        vertical-align: top;\n",
              "    }\n",
              "\n",
              "    .dataframe thead th {\n",
              "        text-align: right;\n",
              "    }\n",
              "</style>\n",
              "<table border=\"1\" class=\"dataframe\">\n",
              "  <thead>\n",
              "    <tr style=\"text-align: right;\">\n",
              "      <th></th>\n",
              "      <th>0</th>\n",
              "    </tr>\n",
              "  </thead>\n",
              "  <tbody>\n",
              "    <tr>\n",
              "      <th>0</th>\n",
              "      <td>https://i.pinimg.com/736x/17/0d/5b/170d5b93d80...</td>\n",
              "    </tr>\n",
              "    <tr>\n",
              "      <th>1</th>\n",
              "      <td>https://i.pinimg.com/736x/47/b9/9a/47b99a2ddcd...</td>\n",
              "    </tr>\n",
              "    <tr>\n",
              "      <th>2</th>\n",
              "      <td>https://i.pinimg.com/736x/90/e8/90/90e890f054b...</td>\n",
              "    </tr>\n",
              "    <tr>\n",
              "      <th>3</th>\n",
              "      <td>https://i.pinimg.com/736x/0a/71/6f/0a716f6f14e...</td>\n",
              "    </tr>\n",
              "    <tr>\n",
              "      <th>4</th>\n",
              "      <td>https://i.pinimg.com/736x/f1/95/be/f195bea0b78...</td>\n",
              "    </tr>\n",
              "    <tr>\n",
              "      <th>...</th>\n",
              "      <td>...</td>\n",
              "    </tr>\n",
              "    <tr>\n",
              "      <th>2676</th>\n",
              "      <td>https://i.pinimg.com/736x/ec/55/2f/ec552fa0c0a...</td>\n",
              "    </tr>\n",
              "    <tr>\n",
              "      <th>2677</th>\n",
              "      <td>https://i.pinimg.com/736x/a7/e2/e1/a7e2e10b8d6...</td>\n",
              "    </tr>\n",
              "    <tr>\n",
              "      <th>2678</th>\n",
              "      <td>https://i.pinimg.com/736x/e0/d5/c5/e0d5c5eeac0...</td>\n",
              "    </tr>\n",
              "    <tr>\n",
              "      <th>2679</th>\n",
              "      <td>https://i.pinimg.com/736x/77/4d/89/774d897ee7e...</td>\n",
              "    </tr>\n",
              "    <tr>\n",
              "      <th>2680</th>\n",
              "      <td>https://i.pinimg.com/736x/95/5d/5e/955d5edfa0a...</td>\n",
              "    </tr>\n",
              "  </tbody>\n",
              "</table>\n",
              "<p>2681 rows × 1 columns</p>\n",
              "</div>\n",
              "      <button class=\"colab-df-convert\" onclick=\"convertToInteractive('df-16aec816-c75e-4b67-883b-34b6b1ef03fd')\"\n",
              "              title=\"Convert this dataframe to an interactive table.\"\n",
              "              style=\"display:none;\">\n",
              "        \n",
              "  <svg xmlns=\"http://www.w3.org/2000/svg\" height=\"24px\"viewBox=\"0 0 24 24\"\n",
              "       width=\"24px\">\n",
              "    <path d=\"M0 0h24v24H0V0z\" fill=\"none\"/>\n",
              "    <path d=\"M18.56 5.44l.94 2.06.94-2.06 2.06-.94-2.06-.94-.94-2.06-.94 2.06-2.06.94zm-11 1L8.5 8.5l.94-2.06 2.06-.94-2.06-.94L8.5 2.5l-.94 2.06-2.06.94zm10 10l.94 2.06.94-2.06 2.06-.94-2.06-.94-.94-2.06-.94 2.06-2.06.94z\"/><path d=\"M17.41 7.96l-1.37-1.37c-.4-.4-.92-.59-1.43-.59-.52 0-1.04.2-1.43.59L10.3 9.45l-7.72 7.72c-.78.78-.78 2.05 0 2.83L4 21.41c.39.39.9.59 1.41.59.51 0 1.02-.2 1.41-.59l7.78-7.78 2.81-2.81c.8-.78.8-2.07 0-2.86zM5.41 20L4 18.59l7.72-7.72 1.47 1.35L5.41 20z\"/>\n",
              "  </svg>\n",
              "      </button>\n",
              "      \n",
              "  <style>\n",
              "    .colab-df-container {\n",
              "      display:flex;\n",
              "      flex-wrap:wrap;\n",
              "      gap: 12px;\n",
              "    }\n",
              "\n",
              "    .colab-df-convert {\n",
              "      background-color: #E8F0FE;\n",
              "      border: none;\n",
              "      border-radius: 50%;\n",
              "      cursor: pointer;\n",
              "      display: none;\n",
              "      fill: #1967D2;\n",
              "      height: 32px;\n",
              "      padding: 0 0 0 0;\n",
              "      width: 32px;\n",
              "    }\n",
              "\n",
              "    .colab-df-convert:hover {\n",
              "      background-color: #E2EBFA;\n",
              "      box-shadow: 0px 1px 2px rgba(60, 64, 67, 0.3), 0px 1px 3px 1px rgba(60, 64, 67, 0.15);\n",
              "      fill: #174EA6;\n",
              "    }\n",
              "\n",
              "    [theme=dark] .colab-df-convert {\n",
              "      background-color: #3B4455;\n",
              "      fill: #D2E3FC;\n",
              "    }\n",
              "\n",
              "    [theme=dark] .colab-df-convert:hover {\n",
              "      background-color: #434B5C;\n",
              "      box-shadow: 0px 1px 3px 1px rgba(0, 0, 0, 0.15);\n",
              "      filter: drop-shadow(0px 1px 2px rgba(0, 0, 0, 0.3));\n",
              "      fill: #FFFFFF;\n",
              "    }\n",
              "  </style>\n",
              "\n",
              "      <script>\n",
              "        const buttonEl =\n",
              "          document.querySelector('#df-16aec816-c75e-4b67-883b-34b6b1ef03fd button.colab-df-convert');\n",
              "        buttonEl.style.display =\n",
              "          google.colab.kernel.accessAllowed ? 'block' : 'none';\n",
              "\n",
              "        async function convertToInteractive(key) {\n",
              "          const element = document.querySelector('#df-16aec816-c75e-4b67-883b-34b6b1ef03fd');\n",
              "          const dataTable =\n",
              "            await google.colab.kernel.invokeFunction('convertToInteractive',\n",
              "                                                     [key], {});\n",
              "          if (!dataTable) return;\n",
              "\n",
              "          const docLinkHtml = 'Like what you see? Visit the ' +\n",
              "            '<a target=\"_blank\" href=https://colab.research.google.com/notebooks/data_table.ipynb>data table notebook</a>'\n",
              "            + ' to learn more about interactive tables.';\n",
              "          element.innerHTML = '';\n",
              "          dataTable['output_type'] = 'display_data';\n",
              "          await google.colab.output.renderOutput(dataTable, element);\n",
              "          const docLink = document.createElement('div');\n",
              "          docLink.innerHTML = docLinkHtml;\n",
              "          element.appendChild(docLink);\n",
              "        }\n",
              "      </script>\n",
              "    </div>\n",
              "  </div>\n",
              "  "
            ]
          },
          "metadata": {},
          "execution_count": 50
        }
      ]
    },
    {
      "cell_type": "code",
      "source": [
        "qtd_georges = len(df_georges[df_georges.columns[0]].unique())\n",
        "qtd_nongeorges = len(df_nongeorges[df_nongeorges.columns[0]].unique())\n",
        "\n",
        "print(\n",
        "    '\\nThere are {} ({:.3f}%) distinct images with St. George.\\n'.format(\n",
        "        qtd_georges,\n",
        "      qtd_georges * 100 / (qtd_georges + qtd_nongeorges)\n",
        "    ),\n",
        "    '\\nThere are {} ({:.3f}%) distinct images without St. George.\\n'.format(\n",
        "        qtd_nongeorges,\n",
        "        qtd_nongeorges * 100 / (qtd_georges + qtd_nongeorges)\n",
        "    )\n",
        ")"
      ],
      "metadata": {
        "colab": {
          "base_uri": "https://localhost:8080/"
        },
        "id": "yYq32PJ4jJst",
        "outputId": "a6b79979-8733-47bb-8237-e767ebfdfbca"
      },
      "execution_count": null,
      "outputs": [
        {
          "output_type": "stream",
          "name": "stdout",
          "text": [
            "\n",
            "There are 2360 (41.404%) distinct images with St. George.\n",
            " \n",
            "There are 3340 (58.596%) distinct images without St. George.\n",
            "\n"
          ]
        }
      ]
    },
    {
      "cell_type": "markdown",
      "source": [
        "We have a couple of thousand of images of both classes, in a relatively balanced dataset.\n",
        "\n",
        "In case the quantity of images is not sufficient, we can apply data augmentation, by applying simple transformations to images, such as flipping, rotating  or zooming the image."
      ],
      "metadata": {
        "id": "Eqf2FlWYj8u3"
      }
    },
    {
      "cell_type": "code",
      "source": [
        "def read_img_from_url(url):\n",
        "  return Image.open(requests.get(url, stream=True).raw)\n",
        "\n",
        "def plot_img_from_url(url):\n",
        "  img = read_img_from_url(url)\n",
        "  plt.imshow(img)\n",
        "  plt.show()\n",
        "\n",
        "plot_img_from_url(df_nongeorges[df_nongeorges.columns[0]].values[0])"
      ],
      "metadata": {
        "id": "y5-OL6N9gwJY"
      },
      "execution_count": null,
      "outputs": []
    },
    {
      "cell_type": "code",
      "source": [
        "np.random.seed(42) # set a pseudo-random seed\n",
        "\n",
        "# example with and without st.georges\n",
        "\n",
        "plt.figure(figsize=(5,4))\n",
        "\n",
        "# images with st.georges\n",
        "plt.subplot(2,2,1)\n",
        "plt.title('With St. Georges', fontsize = 12)\n",
        "img = read_img_from_url(\n",
        "    df_georges[df_georges.columns[0]].values[np.random.randint(0, qtd_georges)]\n",
        ")\n",
        "plt.imshow(img)\n",
        "plt.subplot(2,2,3)\n",
        "plt.title('With St. Georges', fontsize = 12)\n",
        "img = read_img_from_url(\n",
        "    df_georges[df_georges.columns[0]].values[np.random.randint(0, qtd_georges)]\n",
        ")\n",
        "plt.imshow(img)\n",
        "\n",
        "# images without st.georges\n",
        "plt.subplot(2,2,2)\n",
        "plt.title('Without St. Georges', fontsize = 12)\n",
        "img = read_img_from_url(\n",
        "    df_nongeorges[df_nongeorges.columns[0]].values[np.random.randint(0, qtd_nongeorges)]\n",
        ")\n",
        "plt.imshow(img)\n",
        "plt.subplot(2,2,4)\n",
        "plt.title('Without St. Georges', fontsize = 12)\n",
        "img = read_img_from_url(\n",
        "    df_nongeorges[df_nongeorges.columns[0]].values[np.random.randint(0, qtd_nongeorges)]\n",
        ")\n",
        "plt.imshow(img)\n",
        "\n",
        "plt.tight_layout()\n",
        "plt.show()"
      ],
      "metadata": {
        "id": "ycDZHnoIhWx8"
      },
      "execution_count": null,
      "outputs": []
    },
    {
      "cell_type": "markdown",
      "source": [
        "# Creating traning and validation samples"
      ],
      "metadata": {
        "id": "pvwfdMlhl0v2"
      }
    },
    {
      "cell_type": "code",
      "source": [
        "# creating a folder to store the images\n",
        "def create_folder(dir_name,\n",
        "                  root_dir):\n",
        "  new_path = os.path.join(root_dir, dir_name)\n",
        "\n",
        "  if dir_name not in os.listdir(root_dir):\n",
        "    os.mkdir(new_path)\n",
        "\n",
        "create_folder(dir_name = 'image_dataset',\n",
        "                  root_dir = root_path)\n",
        "os.listdir(root_path)"
      ],
      "metadata": {
        "colab": {
          "base_uri": "https://localhost:8080/"
        },
        "id": "mT8il6PZmW_r",
        "outputId": "17fe3a56-4e10-46fd-a35e-5d89c15b9514"
      },
      "execution_count": null,
      "outputs": [
        {
          "output_type": "execute_result",
          "data": {
            "text/plain": [
              "['test_assignment_cv', 'image_dataset']"
            ]
          },
          "metadata": {},
          "execution_count": 54
        }
      ]
    },
    {
      "cell_type": "code",
      "source": [
        "classes = ['not st george', 'st george']\n",
        "for class_name in classes:\n",
        "  create_folder(dir_name = class_name,\n",
        "                root_dir = os.path.join(root_path, 'image_dataset'))\n",
        "\n",
        "os.listdir(root_path)"
      ],
      "metadata": {
        "colab": {
          "base_uri": "https://localhost:8080/"
        },
        "id": "o7g7Kc2VoClT",
        "outputId": "6103f56b-ca8b-4c6f-9d93-c64809f7419d"
      },
      "execution_count": null,
      "outputs": [
        {
          "output_type": "execute_result",
          "data": {
            "text/plain": [
              "['test_assignment_cv', 'image_dataset']"
            ]
          },
          "metadata": {},
          "execution_count": 69
        }
      ]
    },
    {
      "cell_type": "code",
      "source": [
        "os.listdir(os.path.join(root_path, 'image_dataset'))"
      ],
      "metadata": {
        "colab": {
          "base_uri": "https://localhost:8080/"
        },
        "id": "pjxafjLb2Klv",
        "outputId": "01f571e7-9e62-4244-b871-3788391d6b4d"
      },
      "execution_count": null,
      "outputs": [
        {
          "output_type": "execute_result",
          "data": {
            "text/plain": [
              "['not st george', 'st george']"
            ]
          },
          "metadata": {},
          "execution_count": 65
        }
      ]
    },
    {
      "cell_type": "code",
      "source": [
        "for i, url in enumerate(df_nongeorges[df_nongeorges.columns[0]].values):\n",
        "  img = read_img_from_url(url)\n",
        "  img.save(os.path.join(root_path, 'image_dataset', 'not st george', f'img_{i}.jpg'))\n",
        "\n",
        "len(os.listdir(os.path.join(root_path, 'not st george')))"
      ],
      "metadata": {
        "colab": {
          "base_uri": "https://localhost:8080/"
        },
        "id": "jq0cjDUH0Xox",
        "outputId": "826ca135-79c5-43d6-9398-78746ba73bdb"
      },
      "execution_count": null,
      "outputs": [
        {
          "output_type": "execute_result",
          "data": {
            "text/plain": [
              "3366"
            ]
          },
          "metadata": {},
          "execution_count": 58
        }
      ]
    },
    {
      "cell_type": "code",
      "source": [
        "for i, url in enumerate(df_georges[df_georges.columns[0]].values):\n",
        "  img = read_img_from_url(url)\n",
        "  img.save(os.path.join(root_path, 'st george', f'img_{i}.jpg'))\n",
        "\n",
        "len(os.listdir(os.path.join(root_path, 'image_dataset', 'st george')))"
      ],
      "metadata": {
        "id": "erBloMxXl43p"
      },
      "execution_count": null,
      "outputs": []
    },
    {
      "cell_type": "code",
      "source": [
        "import tensorflow as tf\n",
        "\n",
        "from tensorflow import keras\n",
        "from tensorflow.keras import layers\n",
        "from tensorflow.keras.models import Sequential\n",
        "\n",
        "# loader parameters\n",
        "batch_size = 32\n",
        "img_height = 180\n",
        "img_width = 180"
      ],
      "metadata": {
        "id": "AiZZ2AJnzWPc"
      },
      "execution_count": null,
      "outputs": []
    },
    {
      "cell_type": "code",
      "source": [
        "train_ds = tf.keras.utils.image_dataset_from_directory(\n",
        "  os.path.join(root_path, 'image_dataset'),\n",
        "  validation_split=0.2,\n",
        "  subset=\"training\",\n",
        "  seed=123,\n",
        "  image_size=(img_height, img_width),\n",
        "  batch_size=batch_size)"
      ],
      "metadata": {
        "colab": {
          "base_uri": "https://localhost:8080/"
        },
        "id": "_uI4C52jzs0L",
        "outputId": "6ea91b1c-7cef-4874-c8c4-f3d6fd1ec791"
      },
      "execution_count": null,
      "outputs": [
        {
          "output_type": "stream",
          "name": "stdout",
          "text": [
            "Found 6047 files belonging to 2 classes.\n",
            "Using 4838 files for training.\n"
          ]
        }
      ]
    },
    {
      "cell_type": "code",
      "source": [
        "val_ds = tf.keras.utils.image_dataset_from_directory(\n",
        "  os.path.join(root_path, 'image_dataset'),\n",
        "  validation_split=0.2,\n",
        "  subset=\"validation\",\n",
        "  seed=123,\n",
        "  image_size=(img_height, img_width),\n",
        "  batch_size=batch_size)"
      ],
      "metadata": {
        "colab": {
          "base_uri": "https://localhost:8080/"
        },
        "id": "d2RU4Ftul46H",
        "outputId": "651c688f-d71d-44cc-8282-89c4dff243c9"
      },
      "execution_count": null,
      "outputs": [
        {
          "output_type": "stream",
          "name": "stdout",
          "text": [
            "Found 6047 files belonging to 2 classes.\n",
            "Using 1209 files for validation.\n"
          ]
        }
      ]
    },
    {
      "cell_type": "code",
      "source": [
        "class_names = train_ds.class_names\n",
        "print(class_names)"
      ],
      "metadata": {
        "colab": {
          "base_uri": "https://localhost:8080/"
        },
        "id": "XtljLZaul48S",
        "outputId": "74000619-e13d-4b41-daf3-35198720c90f"
      },
      "execution_count": null,
      "outputs": [
        {
          "output_type": "stream",
          "name": "stdout",
          "text": [
            "['not st george', 'st george']\n"
          ]
        }
      ]
    },
    {
      "cell_type": "markdown",
      "source": [
        "# Configuring dataset for performance\n",
        "\n",
        "Using prefetch, we are able to overlap data preprocessing and model executing while training. "
      ],
      "metadata": {
        "id": "RH5bnQe50H39"
      }
    },
    {
      "cell_type": "code",
      "source": [
        "AUTOTUNE = tf.data.AUTOTUNE\n",
        "\n",
        "train_ds = train_ds.cache().shuffle(1000).prefetch(buffer_size=AUTOTUNE)\n",
        "val_ds = val_ds.cache().prefetch(buffer_size=AUTOTUNE)"
      ],
      "metadata": {
        "id": "Q8mIsm1U0SC9"
      },
      "execution_count": null,
      "outputs": []
    },
    {
      "cell_type": "markdown",
      "source": [
        "# Standardizing the data\n",
        "\n",
        "RGB values range from 0 to 255. Small inputs are prefered for neural nets, so we apply a minmax scaling via tf.keras.layers.Rescaling in the model layers."
      ],
      "metadata": {
        "id": "9fTez0Dj1S6w"
      }
    },
    {
      "cell_type": "markdown",
      "source": [
        "# Model\n",
        "\n",
        "This is a Classification task, to identify the presence or absence of St. George in an image, i.e. binary/dichotomous classification.\n",
        "\n",
        "Several models could be used, and I'll use a simple Deep Learning model with convolution blocks, max pooling layers. This is a simple model, not designed for optimal accuracy, but for simplicity and showing a standard model structure for image classification."
      ],
      "metadata": {
        "id": "JmY6AbAtiuaX"
      }
    },
    {
      "cell_type": "code",
      "source": [
        "num_classes = len(class_names)\n",
        "\n",
        "model = Sequential([\n",
        "  layers.Rescaling(1./255, input_shape=(img_height, img_width, 3)),\n",
        "  layers.Conv2D(16, 3, padding='same', activation='relu'),\n",
        "  layers.MaxPooling2D(),\n",
        "  layers.Conv2D(32, 3, padding='same', activation='relu'),\n",
        "  layers.MaxPooling2D(),\n",
        "  layers.Conv2D(64, 3, padding='same', activation='relu'),\n",
        "  layers.MaxPooling2D(),\n",
        "  layers.Flatten(),\n",
        "  layers.Dense(128, activation='relu'),\n",
        "  layers.Dense(num_classes)\n",
        "])"
      ],
      "metadata": {
        "id": "CSAAmzJShW2G"
      },
      "execution_count": null,
      "outputs": []
    },
    {
      "cell_type": "code",
      "source": [
        "model.summary()"
      ],
      "metadata": {
        "colab": {
          "base_uri": "https://localhost:8080/"
        },
        "id": "SefJesxM3CKr",
        "outputId": "f36b35eb-1c70-4133-dda9-06be9665df15"
      },
      "execution_count": null,
      "outputs": [
        {
          "output_type": "stream",
          "name": "stdout",
          "text": [
            "Model: \"sequential\"\n",
            "_________________________________________________________________\n",
            " Layer (type)                Output Shape              Param #   \n",
            "=================================================================\n",
            " rescaling (Rescaling)       (None, 180, 180, 3)       0         \n",
            "                                                                 \n",
            " conv2d (Conv2D)             (None, 180, 180, 16)      448       \n",
            "                                                                 \n",
            " max_pooling2d (MaxPooling2D  (None, 90, 90, 16)       0         \n",
            " )                                                               \n",
            "                                                                 \n",
            " conv2d_1 (Conv2D)           (None, 90, 90, 32)        4640      \n",
            "                                                                 \n",
            " max_pooling2d_1 (MaxPooling  (None, 45, 45, 32)       0         \n",
            " 2D)                                                             \n",
            "                                                                 \n",
            " conv2d_2 (Conv2D)           (None, 45, 45, 64)        18496     \n",
            "                                                                 \n",
            " max_pooling2d_2 (MaxPooling  (None, 22, 22, 64)       0         \n",
            " 2D)                                                             \n",
            "                                                                 \n",
            " flatten (Flatten)           (None, 30976)             0         \n",
            "                                                                 \n",
            " dense (Dense)               (None, 128)               3965056   \n",
            "                                                                 \n",
            " dense_1 (Dense)             (None, 2)                 258       \n",
            "                                                                 \n",
            "=================================================================\n",
            "Total params: 3,988,898\n",
            "Trainable params: 3,988,898\n",
            "Non-trainable params: 0\n",
            "_________________________________________________________________\n"
          ]
        }
      ]
    },
    {
      "cell_type": "code",
      "source": [
        "model.compile(optimizer='adam',\n",
        "              loss=tf.keras.losses.SparseCategoricalCrossentropy(from_logits=True),\n",
        "              metrics=['accuracy'])"
      ],
      "metadata": {
        "id": "IRaXvzwShW4O"
      },
      "execution_count": null,
      "outputs": []
    },
    {
      "cell_type": "markdown",
      "source": [
        "# Training the model"
      ],
      "metadata": {
        "id": "Xs9RVy3H3Imp"
      }
    },
    {
      "cell_type": "code",
      "source": [
        "epochs=10\n",
        "history = model.fit(\n",
        "  train_ds,\n",
        "  validation_data=val_ds,\n",
        "  epochs=epochs\n",
        ")"
      ],
      "metadata": {
        "colab": {
          "base_uri": "https://localhost:8080/"
        },
        "id": "6U5jZphOhW6G",
        "outputId": "7c0fe363-7a0b-437b-a15b-afd83d5b03ff"
      },
      "execution_count": null,
      "outputs": [
        {
          "output_type": "stream",
          "name": "stdout",
          "text": [
            "Epoch 1/10\n",
            "152/152 [==============================] - 262s 2s/step - loss: 0.6215 - accuracy: 0.6625 - val_loss: 0.6348 - val_accuracy: 0.7610\n",
            "Epoch 2/10\n",
            "152/152 [==============================] - 209s 1s/step - loss: 0.5027 - accuracy: 0.7495 - val_loss: 1.0530 - val_accuracy: 0.6410\n",
            "Epoch 3/10\n",
            "152/152 [==============================] - 199s 1s/step - loss: 0.4186 - accuracy: 0.8080 - val_loss: 0.9118 - val_accuracy: 0.6998\n",
            "Epoch 4/10\n",
            "152/152 [==============================] - 216s 1s/step - loss: 0.3373 - accuracy: 0.8501 - val_loss: 1.2431 - val_accuracy: 0.5186\n",
            "Epoch 5/10\n",
            "152/152 [==============================] - 208s 1s/step - loss: 0.2666 - accuracy: 0.8847 - val_loss: 1.4328 - val_accuracy: 0.6270\n",
            "Epoch 6/10\n",
            "152/152 [==============================] - 208s 1s/step - loss: 0.1910 - accuracy: 0.9231 - val_loss: 2.1602 - val_accuracy: 0.5401\n",
            "Epoch 7/10\n",
            "152/152 [==============================] - 207s 1s/step - loss: 0.1388 - accuracy: 0.9479 - val_loss: 3.3381 - val_accuracy: 0.5219\n",
            "Epoch 8/10\n",
            "152/152 [==============================] - 206s 1s/step - loss: 0.1254 - accuracy: 0.9549 - val_loss: 2.9572 - val_accuracy: 0.5608\n",
            "Epoch 9/10\n",
            "152/152 [==============================] - 205s 1s/step - loss: 0.0789 - accuracy: 0.9760 - val_loss: 3.0073 - val_accuracy: 0.5591\n",
            "Epoch 10/10\n",
            "152/152 [==============================] - 205s 1s/step - loss: 0.0663 - accuracy: 0.9791 - val_loss: 3.7604 - val_accuracy: 0.5649\n"
          ]
        }
      ]
    },
    {
      "cell_type": "code",
      "source": [
        "def plot_history_results(history):\n",
        "  acc = history.history['accuracy']\n",
        "  val_acc = history.history['val_accuracy']\n",
        "\n",
        "  loss = history.history['loss']\n",
        "  val_loss = history.history['val_loss']\n",
        "\n",
        "  epochs_range = list(range(epochs))\n",
        "\n",
        "  plt.figure(figsize=(10, 3))\n",
        "  plt.subplot(1,2,1)\n",
        "  plt.plot(epochs_range, acc, label='Training Accuracy')\n",
        "  plt.plot(epochs_range, val_acc, label='Validation Accuracy')\n",
        "  plt.legend(loc='best')\n",
        "  plt.title('Training and Validation Accuracy')\n",
        "\n",
        "  plt.subplot(1,2,2)\n",
        "  plt.plot(epochs_range, loss, label='Training Loss')\n",
        "  plt.plot(epochs_range, val_loss, label='Validation Loss')\n",
        "  plt.legend(loc='best')\n",
        "  plt.title('Training and Validation Loss')\n",
        "\n",
        "  plt.tight_layout()\n",
        "  plt.show()\n",
        "\n",
        "plot_history_results(history)"
      ],
      "metadata": {
        "colab": {
          "base_uri": "https://localhost:8080/",
          "height": 227
        },
        "id": "HdmWehnDhW8G",
        "outputId": "3f344b7f-b218-40c1-de58-3e8ef9238265"
      },
      "execution_count": null,
      "outputs": [
        {
          "output_type": "display_data",
          "data": {
            "text/plain": [
              "<Figure size 1000x300 with 2 Axes>"
            ],
            "image/png": "[encoded data removed]"
          },
          "metadata": {}
        }
      ]
    },
    {
      "cell_type": "markdown",
      "source": [
        "Since training accuracy increased with time up to very high percentages, and validation accuracy converged to about 50%-60%, there might be overfitting.\n",
        "\n",
        "To deal with overfitting, we can use techniques such as Dropout and data augmentation.\n",
        "\n",
        "Data augmentation will try to increase the dataset and promote greater generalization, whereas dropout will drop random nodes of the neural net (setting the activation to zero), introducing regularization."
      ],
      "metadata": {
        "id": "odTkImUQAX4c"
      }
    },
    {
      "cell_type": "markdown",
      "source": [
        "# Data augmentation\n",
        "\n",
        "A range of transformations can be applied to a image, in order to generate new images, for example:\n",
        "- flipping, \n",
        "- rotating\n",
        "- zooming"
      ],
      "metadata": {
        "id": "zxM9a8FrBJOW"
      }
    },
    {
      "cell_type": "code",
      "source": [
        "data_augmentation = keras.Sequential(\n",
        "  [\n",
        "    layers.RandomFlip(\"horizontal\",\n",
        "                      input_shape=(img_height,\n",
        "                                  img_width,\n",
        "                                  3)),\n",
        "    layers.RandomRotation(0.1),\n",
        "    layers.RandomZoom(0.1),\n",
        "  ]\n",
        ")"
      ],
      "metadata": {
        "id": "UwrNzEw9hW95"
      },
      "execution_count": null,
      "outputs": []
    },
    {
      "cell_type": "code",
      "source": [
        "# given 1 image, lets show the augmented images\n",
        "plt.figure(figsize=(10, 10))\n",
        "for images, _ in train_ds.take(1): # selecting 1 image\n",
        "  for i in range(9):\n",
        "    augmented_images = data_augmentation(images)\n",
        "    ax = plt.subplot(3, 3, i + 1)\n",
        "    plt.imshow(augmented_images[0].numpy().astype(\"uint8\"))\n",
        "    plt.axis(\"off\")\n"
      ],
      "metadata": {
        "id": "ltUdubohhW_u"
      },
      "execution_count": null,
      "outputs": []
    },
    {
      "cell_type": "markdown",
      "source": [
        "# Dropout\n",
        "\n",
        "As mentioned earlier, we will apply dropout regularization to reduce overfitting."
      ],
      "metadata": {
        "id": "A9vpOOamBqYV"
      }
    },
    {
      "cell_type": "code",
      "source": [
        "model = Sequential([\n",
        "  data_augmentation,\n",
        "  layers.Rescaling(1./255),\n",
        "  layers.Conv2D(16, 3, padding='same', activation='relu'),\n",
        "  layers.MaxPooling2D(),\n",
        "  layers.Conv2D(32, 3, padding='same', activation='relu'),\n",
        "  layers.MaxPooling2D(),\n",
        "  layers.Conv2D(64, 3, padding='same', activation='relu'),\n",
        "  layers.MaxPooling2D(),\n",
        "  layers.Dropout(0.2),\n",
        "  layers.Flatten(),\n",
        "  layers.Dense(128, activation='relu'),\n",
        "  layers.Dense(num_classes, name=\"outputs\")\n",
        "])\n",
        "model.summary()"
      ],
      "metadata": {
        "colab": {
          "base_uri": "https://localhost:8080/"
        },
        "id": "L-YYNCtyBww_",
        "outputId": "5096a2b5-ff5a-417a-ea95-873efccf1f63"
      },
      "execution_count": null,
      "outputs": [
        {
          "output_type": "stream",
          "name": "stdout",
          "text": [
            "Model: \"sequential_2\"\n",
            "_________________________________________________________________\n",
            " Layer (type)                Output Shape              Param #   \n",
            "=================================================================\n",
            " sequential_1 (Sequential)   (None, 180, 180, 3)       0         \n",
            "                                                                 \n",
            " rescaling_1 (Rescaling)     (None, 180, 180, 3)       0         \n",
            "                                                                 \n",
            " conv2d_3 (Conv2D)           (None, 180, 180, 16)      448       \n",
            "                                                                 \n",
            " max_pooling2d_3 (MaxPooling  (None, 90, 90, 16)       0         \n",
            " 2D)                                                             \n",
            "                                                                 \n",
            " conv2d_4 (Conv2D)           (None, 90, 90, 32)        4640      \n",
            "                                                                 \n",
            " max_pooling2d_4 (MaxPooling  (None, 45, 45, 32)       0         \n",
            " 2D)                                                             \n",
            "                                                                 \n",
            " conv2d_5 (Conv2D)           (None, 45, 45, 64)        18496     \n",
            "                                                                 \n",
            " max_pooling2d_5 (MaxPooling  (None, 22, 22, 64)       0         \n",
            " 2D)                                                             \n",
            "                                                                 \n",
            " dropout (Dropout)           (None, 22, 22, 64)        0         \n",
            "                                                                 \n",
            " flatten_1 (Flatten)         (None, 30976)             0         \n",
            "                                                                 \n",
            " dense_2 (Dense)             (None, 128)               3965056   \n",
            "                                                                 \n",
            " outputs (Dense)             (None, 2)                 258       \n",
            "                                                                 \n",
            "=================================================================\n",
            "Total params: 3,988,898\n",
            "Trainable params: 3,988,898\n",
            "Non-trainable params: 0\n",
            "_________________________________________________________________\n"
          ]
        }
      ]
    },
    {
      "cell_type": "markdown",
      "source": [
        "# Re-training the model"
      ],
      "metadata": {
        "id": "POrZml0cBzqg"
      }
    },
    {
      "cell_type": "code",
      "source": [
        "model.compile(optimizer='adam',\n",
        "              loss=tf.keras.losses.SparseCategoricalCrossentropy(from_logits=True),\n",
        "              metrics=['accuracy'])"
      ],
      "metadata": {
        "id": "fdzsh7LbB1Q9"
      },
      "execution_count": null,
      "outputs": []
    },
    {
      "cell_type": "code",
      "source": [
        "# epochs = 15\n",
        "epochs = 10\n",
        "history = model.fit(\n",
        "  train_ds,\n",
        "  validation_data=val_ds,\n",
        "  epochs=epochs\n",
        ")"
      ],
      "metadata": {
        "colab": {
          "base_uri": "https://localhost:8080/"
        },
        "id": "wHlgrXt7hXB2",
        "outputId": "648a6145-86c2-4ee2-d155-3d546048e939"
      },
      "execution_count": null,
      "outputs": [
        {
          "output_type": "stream",
          "name": "stdout",
          "text": [
            "Epoch 1/10\n",
            "152/152 [==============================] - 284s 2s/step - loss: 0.6007 - accuracy: 0.6821 - val_loss: 1.3560 - val_accuracy: 0.2258\n",
            "Epoch 2/10\n",
            "152/152 [==============================] - 231s 2s/step - loss: 0.5688 - accuracy: 0.7069 - val_loss: 0.7483 - val_accuracy: 0.5897\n",
            "Epoch 3/10\n",
            "152/152 [==============================] - 231s 2s/step - loss: 0.5426 - accuracy: 0.7245 - val_loss: 1.0148 - val_accuracy: 0.5302\n",
            "Epoch 4/10\n",
            "152/152 [==============================] - 238s 2s/step - loss: 0.5269 - accuracy: 0.7342 - val_loss: 1.1569 - val_accuracy: 0.4442\n",
            "Epoch 5/10\n",
            "152/152 [==============================] - 235s 2s/step - loss: 0.5148 - accuracy: 0.7493 - val_loss: 0.8679 - val_accuracy: 0.5955\n",
            "Epoch 6/10\n",
            "152/152 [==============================] - 226s 1s/step - loss: 0.5085 - accuracy: 0.7431 - val_loss: 0.6375 - val_accuracy: 0.7138\n",
            "Epoch 7/10\n",
            "152/152 [==============================] - 232s 2s/step - loss: 0.4933 - accuracy: 0.7584 - val_loss: 1.2653 - val_accuracy: 0.5029\n",
            "Epoch 8/10\n",
            "152/152 [==============================] - 232s 2s/step - loss: 0.4848 - accuracy: 0.7650 - val_loss: 0.9257 - val_accuracy: 0.6146\n",
            "Epoch 9/10\n",
            "152/152 [==============================] - 236s 2s/step - loss: 0.4783 - accuracy: 0.7708 - val_loss: 0.7533 - val_accuracy: 0.6807\n",
            "Epoch 10/10\n",
            "152/152 [==============================] - 239s 2s/step - loss: 0.4706 - accuracy: 0.7668 - val_loss: 1.2276 - val_accuracy: 0.5823\n"
          ]
        }
      ]
    },
    {
      "cell_type": "code",
      "source": [
        "def plot_history_results(history):\n",
        "  acc = history.history['accuracy']\n",
        "  val_acc = history.history['val_accuracy']\n",
        "\n",
        "  loss = history.history['loss']\n",
        "  val_loss = history.history['val_loss']\n",
        "\n",
        "  epochs_range = list(range(epochs))\n",
        "\n",
        "  plt.figure(figsize=(10, 3))\n",
        "  plt.subplot(1,2,1)\n",
        "  plt.plot(epochs_range, acc, label='Training Accuracy')\n",
        "  plt.plot(epochs_range, val_acc, label='Validation Accuracy')\n",
        "  plt.legend(loc='best')\n",
        "  plt.title('Training and Validation Accuracy')\n",
        "\n",
        "  plt.subplot(1,2,2)\n",
        "  plt.plot(epochs_range, loss, label='Training Loss')\n",
        "  plt.plot(epochs_range, val_loss, label='Validation Loss')\n",
        "  plt.legend(loc='best')\n",
        "  plt.title('Training and Validation Loss')\n",
        "\n",
        "  plt.tight_layout()\n",
        "  plt.show()\n",
        "\n",
        "plot_history_results(history)"
      ],
      "metadata": {
        "colab": {
          "base_uri": "https://localhost:8080/",
          "height": 227
        },
        "id": "9T8wBymVCJ1r",
        "outputId": "b34a1093-49e3-48fc-fa4b-63c218df2bf7"
      },
      "execution_count": null,
      "outputs": [
        {
          "output_type": "display_data",
          "data": {
            "text/plain": [
              "<Figure size 1000x300 with 2 Axes>"
            ],
            "image/png": "[encoded data removed]"
          },
          "metadata": {}
        }
      ]
    },
    {
      "cell_type": "markdown",
      "source": [
        "Now the training accuracy does not seem to increase so fast and so much, in a relatively fair value, whereas the validation accuracy increases converging to 60%."
      ],
      "metadata": {
        "id": "KuQ-D9NrNLzp"
      }
    },
    {
      "cell_type": "code",
      "source": [
        "model"
      ],
      "metadata": {
        "colab": {
          "base_uri": "https://localhost:8080/"
        },
        "id": "x-95S0-QesWw",
        "outputId": "79200944-fc69-4515-e1c6-19a535790410"
      },
      "execution_count": null,
      "outputs": [
        {
          "output_type": "execute_result",
          "data": {
            "text/plain": [
              "<keras.engine.sequential.Sequential at 0x7fd40dd8dbe0>"
            ]
          },
          "metadata": {},
          "execution_count": 105
        }
      ]
    },
    {
      "cell_type": "markdown",
      "source": [
        "# Inference"
      ],
      "metadata": {
        "id": "vMYxKZz4Chzs"
      }
    },
    {
      "cell_type": "code",
      "source": [
        "os.listdir(os.path.join(root_path, 'image_dataset', 'not st george'))[0]"
      ],
      "metadata": {
        "colab": {
          "base_uri": "https://localhost:8080/",
          "height": 35
        },
        "id": "8a7j1aIkMidc",
        "outputId": "c2f8050b-884c-4aa3-e8d5-8415ca4911fa"
      },
      "execution_count": null,
      "outputs": [
        {
          "output_type": "execute_result",
          "data": {
            "text/plain": [
              "'img_0.jpg'"
            ],
            "application/vnd.google.colaboratory.intrinsic+json": {
              "type": "string"
            }
          },
          "metadata": {},
          "execution_count": 97
        }
      ]
    },
    {
      "cell_type": "code",
      "source": [
        "def model_inference(img_path,\n",
        "                    img_height,\n",
        "                    img_width,\n",
        "                    class_names):\n",
        "  # load image in desired shape\n",
        "  img = tf.keras.utils.load_img(\n",
        "      img_path, target_size=(img_height, img_width)\n",
        "  )\n",
        "    \n",
        "  # transform to array\n",
        "  img_array = tf.keras.utils.img_to_array(img)\n",
        "  img_array = tf.expand_dims(img_array, 0) # Create a batch\n",
        "\n",
        "  # predict\n",
        "  predictions = model.predict(img_array)\n",
        "  score = tf.nn.softmax(predictions[0])\n",
        "  print(\n",
        "      \"This image most likely belongs to {} with a {:.3f}% confidence.\"\n",
        "      .format(class_names[np.argmax(score)], 100 * np.max(score))\n",
        "  )\n",
        "\n",
        "model_inference(img_path = os.path.join(root_path, 'image_dataset', 'not st george', 'img_0.jpg'),\n",
        "                    img_height=img_height,\n",
        "                    img_width=img_width,\n",
        "                    class_names=class_names)"
      ],
      "metadata": {
        "colab": {
          "base_uri": "https://localhost:8080/"
        },
        "id": "uASoTvd2Cc8R",
        "outputId": "53e72124-a17e-4f33-c97c-93f5cd6aac72"
      },
      "execution_count": null,
      "outputs": [
        {
          "output_type": "stream",
          "name": "stdout",
          "text": [
            "1/1 [==============================] - 0s 38ms/step\n",
            "This image most likely belongs to not st george with a 95.522% confidence.\n"
          ]
        }
      ]
    },
    {
      "cell_type": "code",
      "source": [
        "model_inference(img_path = os.path.join(root_path, 'image_dataset', 'st george', 'img_0.jpg'),\n",
        "                    img_height=img_height,\n",
        "                    img_width=img_width,\n",
        "                    class_names=class_names)"
      ],
      "metadata": {
        "colab": {
          "base_uri": "https://localhost:8080/"
        },
        "id": "2CnWfBExM02k",
        "outputId": "5ef59eb1-0111-4052-ae47-2c420ce9e84f"
      },
      "execution_count": null,
      "outputs": [
        {
          "output_type": "stream",
          "name": "stdout",
          "text": [
            "1/1 [==============================] - 0s 36ms/step\n",
            "This image most likely belongs to st george with a 67.036% confidence.\n"
          ]
        }
      ]
    },
    {
      "cell_type": "markdown",
      "source": [
        "# Saving the model"
      ],
      "metadata": {
        "id": "gOuy8CnthAWR"
      }
    },
    {
      "cell_type": "code",
      "source": [
        "def convert_model(model):\n",
        "    converter = tf.lite.TFLiteConverter.from_keras_model(model)\n",
        "    tflite_model = converter.convert()\n",
        "\n",
        "    return tflite_model\n",
        "\n",
        "def save_model(model, out_dir):\n",
        "    with open(os.path.join(out_dir, 'model.tflite'), 'wb') as f:\n",
        "        f.write(model)\n",
        "\n",
        "tflite_model = convert_model(model)\n",
        "save_model(model = tflite_model,\n",
        "            out_dir = root_path)\n",
        "\n",
        "os.listdir(root_path)"
      ],
      "metadata": {
        "colab": {
          "base_uri": "https://localhost:8080/"
        },
        "id": "NKnb54YehBqp",
        "outputId": "35bf0416-b91f-4ebd-9a2f-f47ed9ccaae5"
      },
      "execution_count": null,
      "outputs": [
        {
          "output_type": "stream",
          "name": "stderr",
          "text": [
            "WARNING:absl:Found untraced functions such as _jit_compiled_convolution_op, _jit_compiled_convolution_op, _jit_compiled_convolution_op, _update_step_xla while saving (showing 4 of 4). These functions will not be directly callable after loading.\n"
          ]
        },
        {
          "output_type": "execute_result",
          "data": {
            "text/plain": [
              "['test_assignment_cv', 'image_dataset', 'model.tflite']"
            ]
          },
          "metadata": {},
          "execution_count": 106
        }
      ]
    },
    {
      "cell_type": "code",
      "source": [
        "!pip show tensorflow"
      ],
      "metadata": {
        "id": "zB0z_dQUhsFa",
        "outputId": "e118f382-2b75-428f-a12f-f942302ae0b8",
        "colab": {
          "base_uri": "https://localhost:8080/"
        }
      },
      "execution_count": null,
      "outputs": [
        {
          "output_type": "stream",
          "name": "stdout",
          "text": [
            "Name: tensorflow\n",
            "Version: 2.12.0\n",
            "Summary: TensorFlow is an open source machine learning framework for everyone.\n",
            "Home-page: https://www.tensorflow.org/\n",
            "Author: Google Inc.\n",
            "Author-email: packages@tensorflow.org\n",
            "License: Apache 2.0\n",
            "Location: /usr/local/lib/python3.9/dist-packages\n",
            "Requires: absl-py, astunparse, flatbuffers, gast, google-pasta, grpcio, h5py, jax, keras, libclang, numpy, opt-einsum, packaging, protobuf, setuptools, six, tensorboard, tensorflow-estimator, tensorflow-io-gcs-filesystem, termcolor, typing-extensions, wrapt\n",
            "Required-by: dopamine-rl\n"
          ]
        }
      ]
    }
  ]
}